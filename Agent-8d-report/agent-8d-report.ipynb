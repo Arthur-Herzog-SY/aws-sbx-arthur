{
 "cells": [
  {
   "cell_type": "markdown",
   "id": "ca07d4d2-af36-4dca-992a-b9eea26cf62e",
   "metadata": {},
   "source": [
    "# agent-8d-report"
   ]
  },
  {
   "cell_type": "raw",
   "id": "13f37166-4cc0-4560-aba4-352fcf6f7b5a",
   "metadata": {},
   "source": [
    "!pip install xmltodict"
   ]
  },
  {
   "cell_type": "code",
   "execution_count": 1,
   "id": "c1eca9ab-66f8-4e07-8a57-8d724c3f42e8",
   "metadata": {},
   "outputs": [],
   "source": [
    "import json\n",
    "import xmltodict"
   ]
  },
  {
   "cell_type": "code",
   "execution_count": 2,
   "id": "1ab2e7db-a09a-45af-a852-26fd082b2888",
   "metadata": {},
   "outputs": [],
   "source": [
    "#dir_base = \"Agent-8d-report\"\n",
    "file_json = \"data/sample-json-data.json\""
   ]
  },
  {
   "cell_type": "markdown",
   "id": "37a2b839-9e88-4582-ac6a-4daafda5ff4b",
   "metadata": {},
   "source": [
    "# json to xml"
   ]
  },
  {
   "cell_type": "markdown",
   "id": "ed25de14-477f-4d35-9e7f-981a6525bbcb",
   "metadata": {},
   "source": [
    "## step by step"
   ]
  },
  {
   "cell_type": "raw",
   "id": "fe58364b-d5a4-4701-a78c-5d28e924d940",
   "metadata": {
    "scrolled": true
   },
   "source": [
    "with open(file_json, 'r') as json_file:\n",
    "     json_data = json.load(json_file)\n",
    "\n",
    "json_data"
   ]
  },
  {
   "cell_type": "raw",
   "id": "e58e979a-0a58-4f73-9742-100e7d3e9389",
   "metadata": {},
   "source": [
    "xml_data = xmltodict.unparse(json_data, pretty=True)\n",
    "\n",
    "xml_data"
   ]
  },
  {
   "cell_type": "raw",
   "id": "e7d790bf-e675-4208-92db-54c10b591fd2",
   "metadata": {},
   "source": [
    "# Save to XML file\n",
    "with open('sample.xml', 'w') as xml_file:\n",
    "    xml_file.write(xml_data)"
   ]
  },
  {
   "cell_type": "markdown",
   "id": "83bbc957-922b-4155-9737-42e369ad4d08",
   "metadata": {},
   "source": [
    "## function json2xml"
   ]
  },
  {
   "cell_type": "code",
   "execution_count": 3,
   "id": "8d19f10f-cc83-42db-951e-ea0c87ed186a",
   "metadata": {},
   "outputs": [],
   "source": [
    "import json\n",
    "import xmltodict\n",
    "\n",
    "def json2xml(json_file_path):\n",
    "    \n",
    "    # Load JSON data\n",
    "    with open(json_file_path, 'r') as json_file:\n",
    "        json_data = json.load(json_file)\n",
    "    \n",
    "    # Check if the JSON data is a list (or lacks a root)\n",
    "    if isinstance(json_data, list):\n",
    "        json_data = {\"Root\": json_data}  # Wrap the list in a root object\n",
    "    \n",
    "    # Convert JSON to XML\n",
    "    xml_data = xmltodict.unparse(json_data, pretty=True)\n",
    "\n",
    "    return xml_data\n",
    "\n",
    "    "
   ]
  },
  {
   "cell_type": "code",
   "execution_count": 4,
   "id": "c26192b2-7e49-4ded-9e8e-cffd5dd6cee2",
   "metadata": {},
   "outputs": [
    {
     "name": "stdout",
     "output_type": "stream",
     "text": [
      "Saved XML as data/sample-json-data.xml\n"
     ]
    }
   ],
   "source": [
    "\n",
    "xml_data = json2xml(file_json)\n",
    "\n",
    "# Save to XML file\n",
    "path_xml = file_json.replace('.json', '.xml')\n",
    "with open(path_xml, 'w') as xml_file:\n",
    "    xml_file.write(xml_data)\n",
    "    print(f\"Saved XML as {path_xml}\")\n"
   ]
  },
  {
   "cell_type": "code",
   "execution_count": null,
   "id": "3ac14981-fbf1-4650-b329-c0bc55eca77a",
   "metadata": {},
   "outputs": [],
   "source": []
  }
 ],
 "metadata": {
  "kernelspec": {
   "display_name": "Python 3 (ipykernel)",
   "language": "python",
   "name": "python3"
  },
  "language_info": {
   "codemirror_mode": {
    "name": "ipython",
    "version": 3
   },
   "file_extension": ".py",
   "mimetype": "text/x-python",
   "name": "python",
   "nbconvert_exporter": "python",
   "pygments_lexer": "ipython3",
   "version": "3.11.9"
  }
 },
 "nbformat": 4,
 "nbformat_minor": 5
}
